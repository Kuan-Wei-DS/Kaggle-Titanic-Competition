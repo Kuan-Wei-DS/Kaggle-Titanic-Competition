{
 "cells": [
  {
   "cell_type": "markdown",
   "metadata": {},
   "source": [
    "# Background\n",
    "[**Titanic: Machine Learning from Disaster**](https://www.kaggle.com/c/titanic) is a famous Kaggle competition in which participants are asked to build machine learning models to predict if a passenger will survive or not. It is a great resource for practicing data analysis skills for self-learning students like myself. In this notebook, I present how I handle the dataset and eventually build a model with a testing dataset prediction accuracy of 78.7%."
   ]
  },
  {
   "cell_type": "markdown",
   "metadata": {},
   "source": [
    "## Overview\n",
    "The main steps that I took to complete the competition are as follow:\n",
    "#### 1. Understand the shape of the data through visualization (histogram, bar plots)\n",
    "#### 2. Data preprocessing and feature engineering\n",
    "#### 3. Model building and fine-tuning"
   ]
  },
  {
   "cell_type": "markdown",
   "metadata": {},
   "source": [
    "## 1. Understand the shape of the data"
   ]
  },
  {
   "cell_type": "markdown",
   "metadata": {},
   "source": [
    "### Data Overview"
   ]
  },
  {
   "cell_type": "code",
   "execution_count": 1,
   "metadata": {},
   "outputs": [],
   "source": [
    "# import packages\n",
    "import pandas as pd\n",
    "import numpy as np\n",
    "import matplotlib.pyplot as plt\n",
    "import seaborn as sns\n",
    "%matplotlib inline"
   ]
  },
  {
   "cell_type": "code",
   "execution_count": 2,
   "metadata": {},
   "outputs": [],
   "source": [
    "# Read the training and testing data\n",
    "train = pd.read_csv(\"train.csv\")"
   ]
  },
  {
   "cell_type": "code",
   "execution_count": 3,
   "metadata": {},
   "outputs": [
    {
     "data": {
      "text/html": [
       "<div>\n",
       "<style scoped>\n",
       "    .dataframe tbody tr th:only-of-type {\n",
       "        vertical-align: middle;\n",
       "    }\n",
       "\n",
       "    .dataframe tbody tr th {\n",
       "        vertical-align: top;\n",
       "    }\n",
       "\n",
       "    .dataframe thead th {\n",
       "        text-align: right;\n",
       "    }\n",
       "</style>\n",
       "<table border=\"1\" class=\"dataframe\">\n",
       "  <thead>\n",
       "    <tr style=\"text-align: right;\">\n",
       "      <th></th>\n",
       "      <th>PassengerId</th>\n",
       "      <th>Survived</th>\n",
       "      <th>Pclass</th>\n",
       "      <th>Name</th>\n",
       "      <th>Sex</th>\n",
       "      <th>Age</th>\n",
       "      <th>SibSp</th>\n",
       "      <th>Parch</th>\n",
       "      <th>Ticket</th>\n",
       "      <th>Fare</th>\n",
       "      <th>Cabin</th>\n",
       "      <th>Embarked</th>\n",
       "    </tr>\n",
       "  </thead>\n",
       "  <tbody>\n",
       "    <tr>\n",
       "      <td>0</td>\n",
       "      <td>1</td>\n",
       "      <td>0</td>\n",
       "      <td>3</td>\n",
       "      <td>Braund, Mr. Owen Harris</td>\n",
       "      <td>male</td>\n",
       "      <td>22.0</td>\n",
       "      <td>1</td>\n",
       "      <td>0</td>\n",
       "      <td>A/5 21171</td>\n",
       "      <td>7.2500</td>\n",
       "      <td>NaN</td>\n",
       "      <td>S</td>\n",
       "    </tr>\n",
       "    <tr>\n",
       "      <td>1</td>\n",
       "      <td>2</td>\n",
       "      <td>1</td>\n",
       "      <td>1</td>\n",
       "      <td>Cumings, Mrs. John Bradley (Florence Briggs Th...</td>\n",
       "      <td>female</td>\n",
       "      <td>38.0</td>\n",
       "      <td>1</td>\n",
       "      <td>0</td>\n",
       "      <td>PC 17599</td>\n",
       "      <td>71.2833</td>\n",
       "      <td>C85</td>\n",
       "      <td>C</td>\n",
       "    </tr>\n",
       "    <tr>\n",
       "      <td>2</td>\n",
       "      <td>3</td>\n",
       "      <td>1</td>\n",
       "      <td>3</td>\n",
       "      <td>Heikkinen, Miss. Laina</td>\n",
       "      <td>female</td>\n",
       "      <td>26.0</td>\n",
       "      <td>0</td>\n",
       "      <td>0</td>\n",
       "      <td>STON/O2. 3101282</td>\n",
       "      <td>7.9250</td>\n",
       "      <td>NaN</td>\n",
       "      <td>S</td>\n",
       "    </tr>\n",
       "    <tr>\n",
       "      <td>3</td>\n",
       "      <td>4</td>\n",
       "      <td>1</td>\n",
       "      <td>1</td>\n",
       "      <td>Futrelle, Mrs. Jacques Heath (Lily May Peel)</td>\n",
       "      <td>female</td>\n",
       "      <td>35.0</td>\n",
       "      <td>1</td>\n",
       "      <td>0</td>\n",
       "      <td>113803</td>\n",
       "      <td>53.1000</td>\n",
       "      <td>C123</td>\n",
       "      <td>S</td>\n",
       "    </tr>\n",
       "    <tr>\n",
       "      <td>4</td>\n",
       "      <td>5</td>\n",
       "      <td>0</td>\n",
       "      <td>3</td>\n",
       "      <td>Allen, Mr. William Henry</td>\n",
       "      <td>male</td>\n",
       "      <td>35.0</td>\n",
       "      <td>0</td>\n",
       "      <td>0</td>\n",
       "      <td>373450</td>\n",
       "      <td>8.0500</td>\n",
       "      <td>NaN</td>\n",
       "      <td>S</td>\n",
       "    </tr>\n",
       "    <tr>\n",
       "      <td>5</td>\n",
       "      <td>6</td>\n",
       "      <td>0</td>\n",
       "      <td>3</td>\n",
       "      <td>Moran, Mr. James</td>\n",
       "      <td>male</td>\n",
       "      <td>NaN</td>\n",
       "      <td>0</td>\n",
       "      <td>0</td>\n",
       "      <td>330877</td>\n",
       "      <td>8.4583</td>\n",
       "      <td>NaN</td>\n",
       "      <td>Q</td>\n",
       "    </tr>\n",
       "    <tr>\n",
       "      <td>6</td>\n",
       "      <td>7</td>\n",
       "      <td>0</td>\n",
       "      <td>1</td>\n",
       "      <td>McCarthy, Mr. Timothy J</td>\n",
       "      <td>male</td>\n",
       "      <td>54.0</td>\n",
       "      <td>0</td>\n",
       "      <td>0</td>\n",
       "      <td>17463</td>\n",
       "      <td>51.8625</td>\n",
       "      <td>E46</td>\n",
       "      <td>S</td>\n",
       "    </tr>\n",
       "    <tr>\n",
       "      <td>7</td>\n",
       "      <td>8</td>\n",
       "      <td>0</td>\n",
       "      <td>3</td>\n",
       "      <td>Palsson, Master. Gosta Leonard</td>\n",
       "      <td>male</td>\n",
       "      <td>2.0</td>\n",
       "      <td>3</td>\n",
       "      <td>1</td>\n",
       "      <td>349909</td>\n",
       "      <td>21.0750</td>\n",
       "      <td>NaN</td>\n",
       "      <td>S</td>\n",
       "    </tr>\n",
       "    <tr>\n",
       "      <td>8</td>\n",
       "      <td>9</td>\n",
       "      <td>1</td>\n",
       "      <td>3</td>\n",
       "      <td>Johnson, Mrs. Oscar W (Elisabeth Vilhelmina Berg)</td>\n",
       "      <td>female</td>\n",
       "      <td>27.0</td>\n",
       "      <td>0</td>\n",
       "      <td>2</td>\n",
       "      <td>347742</td>\n",
       "      <td>11.1333</td>\n",
       "      <td>NaN</td>\n",
       "      <td>S</td>\n",
       "    </tr>\n",
       "    <tr>\n",
       "      <td>9</td>\n",
       "      <td>10</td>\n",
       "      <td>1</td>\n",
       "      <td>2</td>\n",
       "      <td>Nasser, Mrs. Nicholas (Adele Achem)</td>\n",
       "      <td>female</td>\n",
       "      <td>14.0</td>\n",
       "      <td>1</td>\n",
       "      <td>0</td>\n",
       "      <td>237736</td>\n",
       "      <td>30.0708</td>\n",
       "      <td>NaN</td>\n",
       "      <td>C</td>\n",
       "    </tr>\n",
       "  </tbody>\n",
       "</table>\n",
       "</div>"
      ],
      "text/plain": [
       "   PassengerId  Survived  Pclass  \\\n",
       "0            1         0       3   \n",
       "1            2         1       1   \n",
       "2            3         1       3   \n",
       "3            4         1       1   \n",
       "4            5         0       3   \n",
       "5            6         0       3   \n",
       "6            7         0       1   \n",
       "7            8         0       3   \n",
       "8            9         1       3   \n",
       "9           10         1       2   \n",
       "\n",
       "                                                Name     Sex   Age  SibSp  \\\n",
       "0                            Braund, Mr. Owen Harris    male  22.0      1   \n",
       "1  Cumings, Mrs. John Bradley (Florence Briggs Th...  female  38.0      1   \n",
       "2                             Heikkinen, Miss. Laina  female  26.0      0   \n",
       "3       Futrelle, Mrs. Jacques Heath (Lily May Peel)  female  35.0      1   \n",
       "4                           Allen, Mr. William Henry    male  35.0      0   \n",
       "5                                   Moran, Mr. James    male   NaN      0   \n",
       "6                            McCarthy, Mr. Timothy J    male  54.0      0   \n",
       "7                     Palsson, Master. Gosta Leonard    male   2.0      3   \n",
       "8  Johnson, Mrs. Oscar W (Elisabeth Vilhelmina Berg)  female  27.0      0   \n",
       "9                Nasser, Mrs. Nicholas (Adele Achem)  female  14.0      1   \n",
       "\n",
       "   Parch            Ticket     Fare Cabin Embarked  \n",
       "0      0         A/5 21171   7.2500   NaN        S  \n",
       "1      0          PC 17599  71.2833   C85        C  \n",
       "2      0  STON/O2. 3101282   7.9250   NaN        S  \n",
       "3      0            113803  53.1000  C123        S  \n",
       "4      0            373450   8.0500   NaN        S  \n",
       "5      0            330877   8.4583   NaN        Q  \n",
       "6      0             17463  51.8625   E46        S  \n",
       "7      1            349909  21.0750   NaN        S  \n",
       "8      2            347742  11.1333   NaN        S  \n",
       "9      0            237736  30.0708   NaN        C  "
      ]
     },
     "execution_count": 3,
     "metadata": {},
     "output_type": "execute_result"
    }
   ],
   "source": [
    "# View the data\n",
    "train.head(10)"
   ]
  },
  {
   "cell_type": "code",
   "execution_count": 4,
   "metadata": {},
   "outputs": [
    {
     "name": "stdout",
     "output_type": "stream",
     "text": [
      "<class 'pandas.core.frame.DataFrame'>\n",
      "RangeIndex: 891 entries, 0 to 890\n",
      "Data columns (total 12 columns):\n",
      "PassengerId    891 non-null int64\n",
      "Survived       891 non-null int64\n",
      "Pclass         891 non-null int64\n",
      "Name           891 non-null object\n",
      "Sex            891 non-null object\n",
      "Age            714 non-null float64\n",
      "SibSp          891 non-null int64\n",
      "Parch          891 non-null int64\n",
      "Ticket         891 non-null object\n",
      "Fare           891 non-null float64\n",
      "Cabin          204 non-null object\n",
      "Embarked       889 non-null object\n",
      "dtypes: float64(2), int64(5), object(5)\n",
      "memory usage: 83.7+ KB\n"
     ]
    }
   ],
   "source": [
    "train.info()"
   ]
  },
  {
   "cell_type": "markdown",
   "metadata": {},
   "source": [
    "According to the above summary, there are in total 12 columns in the training dataset: 7 numerical columns and 5 categorical columns. Missing values exist in *Age*, *Cabin*, and *Embarked* columns, especially in *Cabin* columns, where only 204 out of 891 values are not null. *PassengerId* and *Ticket* columns should be specific to each passenger and therefore may not have impact on the survival result. Even though the values in the *name* column is also specific to each passenger, some of them share common titles (Mr. Mrs. etc.), so this might be valuable to extract later. "
   ]
  },
  {
   "cell_type": "markdown",
   "metadata": {},
   "source": [
    "### Data Visualization"
   ]
  },
  {
   "cell_type": "markdown",
   "metadata": {},
   "source": [
    "Let's first see the numerical columns:"
   ]
  },
  {
   "cell_type": "code",
   "execution_count": 5,
   "metadata": {},
   "outputs": [],
   "source": [
    "# Numerical columns\n",
    "num_cols = [\"PassengerId\", \"Survived\", \"Pclass\", \"Age\", \"SibSp\", \"Parch\", \"Fare\"]"
   ]
  },
  {
   "cell_type": "code",
   "execution_count": 6,
   "metadata": {
    "scrolled": false
   },
   "outputs": [
    {
     "data": {
      "image/png": "[encoded data removed]",
      "text/plain": [
       "<Figure size 432x288 with 1 Axes>"
      ]
     },
     "metadata": {
      "needs_background": "light"
     },
     "output_type": "display_data"
    },
    {
     "data": {
      "image/png": "[encoded data removed]",
      "text/plain": [
       "<Figure size 432x288 with 1 Axes>"
      ]
     },
     "metadata": {
      "needs_background": "light"
     },
     "output_type": "display_data"
    },
    {
     "data": {
      "image/png": "[encoded data removed]",
      "text/plain": [
       "<Figure size 432x288 with 1 Axes>"
      ]
     },
     "metadata": {
      "needs_background": "light"
     },
     "output_type": "display_data"
    },
    {
     "data": {
      "image/png": "[encoded data removed]",
      "text/plain": [
       "<Figure size 432x288 with 1 Axes>"
      ]
     },
     "metadata": {
      "needs_background": "light"
     },
     "output_type": "display_data"
    },
    {
     "data": {
      "image/png": "[encoded data removed]",
      "text/plain": [
       "<Figure size 432x288 with 1 Axes>"
      ]
     },
     "metadata": {
      "needs_background": "light"
     },
     "output_type": "display_data"
    },
    {
     "data": {
      "image/png": "[encoded data removed]",
      "text/plain": [
       "<Figure size 432x288 with 1 Axes>"
      ]
     },
     "metadata": {
      "needs_background": "light"
     },
     "output_type": "display_data"
    },
    {
     "data": {
      "image/png": "[encoded data removed]",
      "text/plain": [
       "<Figure size 432x288 with 1 Axes>"
      ]
     },
     "metadata": {
      "needs_background": "light"
     },
     "output_type": "display_data"
    }
   ],
   "source": [
    "# Look the numerical data through frequency\n",
    "for col in num_cols:\n",
    "    fig = plt.figure()\n",
    "    train[col].plot(kind='hist', title='{}'.format(col))\n",
    "plt.show()"
   ]
  },
  {
   "cell_type": "markdown",
   "metadata": {},
   "source": [
    "From the above graphs, as expected, *PassengerId* is specific to each passenger; There were more passengers that did not survive; The number of passengers in Class 1 and Class 2 were similar and lower than the number of passengers in Class 3; *Age* has values from 0 to 80 years old and has a distribution similar to a normal distribution; *SibSp* and *Parch* both have their most values equal to 0 and 1; *Fare* has its most values under 150. Let's see how the rest of the columns correlate with *Survived* column."
   ]
  },
  {
   "cell_type": "code",
   "execution_count": 7,
   "metadata": {},
   "outputs": [
    {
     "data": {
      "image/png": "[encoded data removed]",
      "text/plain": [
       "<Figure size 864x648 with 2 Axes>"
      ]
     },
     "metadata": {
      "needs_background": "light"
     },
     "output_type": "display_data"
    }
   ],
   "source": [
    "# Correlations between numerical columns and Survived column\n",
    "num_train = train[num_cols]\n",
    "corr = num_train.corr()\n",
    "corr = corr.iloc[1:, :-1]\n",
    "mask = np.triu(np.ones_like(corr), k=1)\n",
    "plt.figure(figsize=(12,9))\n",
    "ax=sns.heatmap(corr, vmin=-1, vmax=1, cmap='RdBu', mask=mask, annot=True, square=True)"
   ]
  },
  {
   "cell_type": "markdown",
   "metadata": {},
   "source": [
    "From the above correlation graph we notice that:\n",
    "1.  As expected, *PassengerId* does not have any correlation with the survival status.\n",
    "2. *Pclass* has a strong negative correlation with the survival status - the lower the Pclass value, the higher the chance to survive. Lower *Pclass* indicates more luxurious class. Thus in this case, richer people seem to have a higher chance to survive. This hypothesis is also evidenced in the significant positive correlations between *Fare* and *Survived*.\n",
    "3. *Age* has a slightly negative correlation with surivial status. It makes sense as younger people usually have priority to be rescued. I expected *Age* to have a stronger negative correlation, but it does not. The possible reason can be the strong negative correlation between *Age* and *Pclass* - the younger people are mainly in higher classes, which have lower chances to survive.\n",
    "4. Interestingly, SibSp (# of siblings / spouses aboard the Titanic) and Parch (# of parents / children aboard the Titanic) both indicate the number of family members aboard but have opposite impact on the surivival rate."
   ]
  },
  {
   "cell_type": "markdown",
   "metadata": {},
   "source": [
    "Now let's take a look at the categorical columns:"
   ]
  },
  {
   "cell_type": "code",
   "execution_count": 8,
   "metadata": {},
   "outputs": [],
   "source": [
    "# Categorical columns\n",
    "cal_cols = [\"Name\", \"Sex\", \"Ticket\", \"Cabin\", \"Embarked\"]"
   ]
  },
  {
   "cell_type": "code",
   "execution_count": 9,
   "metadata": {
    "scrolled": false
   },
   "outputs": [
    {
     "data": {
      "image/png": "[encoded data removed]",
      "text/plain": [
       "<Figure size 432x288 with 1 Axes>"
      ]
     },
     "metadata": {
      "needs_background": "light"
     },
     "output_type": "display_data"
    },
    {
     "data": {
      "image/png": "[encoded data removed]",
      "text/plain": [
       "<Figure size 432x288 with 1 Axes>"
      ]
     },
     "metadata": {
      "needs_background": "light"
     },
     "output_type": "display_data"
    },
    {
     "data": {
      "image/png": "[encoded data removed]",
      "text/plain": [
       "<Figure size 432x288 with 1 Axes>"
      ]
     },
     "metadata": {
      "needs_background": "light"
     },
     "output_type": "display_data"
    },
    {
     "data": {
      "image/png": "[encoded data removed]",
      "text/plain": [
       "<Figure size 432x288 with 1 Axes>"
      ]
     },
     "metadata": {
      "needs_background": "light"
     },
     "output_type": "display_data"
    },
    {
     "data": {
      "image/png": "[encoded data removed]",
      "text/plain": [
       "<Figure size 432x288 with 1 Axes>"
      ]
     },
     "metadata": {
      "needs_background": "light"
     },
     "output_type": "display_data"
    }
   ],
   "source": [
    "# Look the categorical data through value_counts\n",
    "for col in cal_cols:\n",
    "    fig = plt.figure()\n",
    "    train[col].value_counts().plot(kind='bar', title='{}'.format(col))\n",
    "    \n",
    "plt.show()"
   ]
  },
  {
   "cell_type": "markdown",
   "metadata": {},
   "source": [
    "As expected, *Name*, *Ticket*, and *Cabin* columns have large numbers of different values. They require further processing before use them in models. *Sex* and *Embarked* can be directly used. Let's see how they correlate with the survival status:"
   ]
  },
  {
   "cell_type": "code",
   "execution_count": 10,
   "metadata": {},
   "outputs": [
    {
     "name": "stdout",
     "output_type": "stream",
     "text": [
      "Sex       female  male\n",
      "Survived              \n",
      "0             81   468\n",
      "1            233   109\n",
      "\n",
      "\n",
      "Embarked   C   Q    S\n",
      "Survived             \n",
      "0         75  47  427\n",
      "1         93  30  217\n"
     ]
    }
   ],
   "source": [
    "print(pd.pivot_table(train, values=\"PassengerId\", index=\"Survived\", columns=\"Sex\", aggfunc=\"count\"))\n",
    "print(\"\\n\")\n",
    "print(pd.pivot_table(train, values=\"PassengerId\", index=\"Survived\", columns=\"Embarked\", aggfunc=\"count\"))"
   ]
  },
  {
   "cell_type": "markdown",
   "metadata": {},
   "source": [
    "As can be seen from the above pivot tables, both *Sex* and *Embarked* have great impacts on the survival status. \n",
    "1. Much more females survived compared to males\n",
    "2. Passengers embarked from port Cherbourg have highest surivial rate, then from port Queenstown, then from port Southampton."
   ]
  },
  {
   "cell_type": "markdown",
   "metadata": {},
   "source": [
    "## Data Preprocessing and Feature Engineering"
   ]
  },
  {
   "cell_type": "markdown",
   "metadata": {},
   "source": [
    "### Missing Values"
   ]
  },
  {
   "cell_type": "markdown",
   "metadata": {},
   "source": [
    "From the above overview, three columns contain missing values: *Age*, *Cabin*, and *Embarked*. *Cabin* column has the most missing values, so let's take a look at this column first to see if we can replace the missing value with some known values."
   ]
  },
  {
   "cell_type": "code",
   "execution_count": 11,
   "metadata": {},
   "outputs": [
    {
     "data": {
      "text/plain": [
       "B96 B98        4\n",
       "C23 C25 C27    4\n",
       "G6             4\n",
       "F33            3\n",
       "F2             3\n",
       "              ..\n",
       "A26            1\n",
       "A14            1\n",
       "E12            1\n",
       "A23            1\n",
       "C62 C64        1\n",
       "Name: Cabin, Length: 147, dtype: int64"
      ]
     },
     "execution_count": 11,
     "metadata": {},
     "output_type": "execute_result"
    }
   ],
   "source": [
    "train[\"Cabin\"].value_counts()"
   ]
  },
  {
   "cell_type": "markdown",
   "metadata": {},
   "source": [
    "Interestingly, all cabins have a combination of a alphabetic letter followed by a number. Thus, I can reorganize the column by removing the number and retaining the letter. "
   ]
  },
  {
   "cell_type": "code",
   "execution_count": 12,
   "metadata": {},
   "outputs": [
    {
     "data": {
      "text/plain": [
       "C    59\n",
       "B    47\n",
       "D    33\n",
       "E    32\n",
       "A    15\n",
       "F    13\n",
       "G     4\n",
       "T     1\n",
       "Name: CabinLetters, dtype: int64"
      ]
     },
     "execution_count": 12,
     "metadata": {},
     "output_type": "execute_result"
    }
   ],
   "source": [
    "train[\"CabinLetters\"] = train[\"Cabin\"].str[0]\n",
    "train[\"CabinLetters\"].value_counts()"
   ]
  },
  {
   "cell_type": "markdown",
   "metadata": {},
   "source": [
    "Now the unique number of cabins is decreased down to 8. In common large transportation units, cabins are subsets of classes. Let's see if it is true in this case:"
   ]
  },
  {
   "cell_type": "code",
   "execution_count": 13,
   "metadata": {
    "scrolled": true
   },
   "outputs": [
    {
     "data": {
      "text/html": [
       "<div>\n",
       "<style scoped>\n",
       "    .dataframe tbody tr th:only-of-type {\n",
       "        vertical-align: middle;\n",
       "    }\n",
       "\n",
       "    .dataframe tbody tr th {\n",
       "        vertical-align: top;\n",
       "    }\n",
       "\n",
       "    .dataframe thead th {\n",
       "        text-align: right;\n",
       "    }\n",
       "</style>\n",
       "<table border=\"1\" class=\"dataframe\">\n",
       "  <thead>\n",
       "    <tr style=\"text-align: right;\">\n",
       "      <th>CabinLetters</th>\n",
       "      <th>A</th>\n",
       "      <th>B</th>\n",
       "      <th>C</th>\n",
       "      <th>D</th>\n",
       "      <th>E</th>\n",
       "      <th>F</th>\n",
       "      <th>G</th>\n",
       "      <th>T</th>\n",
       "    </tr>\n",
       "    <tr>\n",
       "      <th>Pclass</th>\n",
       "      <th></th>\n",
       "      <th></th>\n",
       "      <th></th>\n",
       "      <th></th>\n",
       "      <th></th>\n",
       "      <th></th>\n",
       "      <th></th>\n",
       "      <th></th>\n",
       "    </tr>\n",
       "  </thead>\n",
       "  <tbody>\n",
       "    <tr>\n",
       "      <td>1</td>\n",
       "      <td>15.0</td>\n",
       "      <td>47.0</td>\n",
       "      <td>59.0</td>\n",
       "      <td>29.0</td>\n",
       "      <td>25.0</td>\n",
       "      <td>NaN</td>\n",
       "      <td>NaN</td>\n",
       "      <td>1.0</td>\n",
       "    </tr>\n",
       "    <tr>\n",
       "      <td>2</td>\n",
       "      <td>NaN</td>\n",
       "      <td>NaN</td>\n",
       "      <td>NaN</td>\n",
       "      <td>4.0</td>\n",
       "      <td>4.0</td>\n",
       "      <td>8.0</td>\n",
       "      <td>NaN</td>\n",
       "      <td>NaN</td>\n",
       "    </tr>\n",
       "    <tr>\n",
       "      <td>3</td>\n",
       "      <td>NaN</td>\n",
       "      <td>NaN</td>\n",
       "      <td>NaN</td>\n",
       "      <td>NaN</td>\n",
       "      <td>3.0</td>\n",
       "      <td>5.0</td>\n",
       "      <td>4.0</td>\n",
       "      <td>NaN</td>\n",
       "    </tr>\n",
       "  </tbody>\n",
       "</table>\n",
       "</div>"
      ],
      "text/plain": [
       "CabinLetters     A     B     C     D     E    F    G    T\n",
       "Pclass                                                   \n",
       "1             15.0  47.0  59.0  29.0  25.0  NaN  NaN  1.0\n",
       "2              NaN   NaN   NaN   4.0   4.0  8.0  NaN  NaN\n",
       "3              NaN   NaN   NaN   NaN   3.0  5.0  4.0  NaN"
      ]
     },
     "execution_count": 13,
     "metadata": {},
     "output_type": "execute_result"
    }
   ],
   "source": [
    "pd.pivot_table(train, values=\"PassengerId\", index=\"Pclass\", columns=\"CabinLetters\", aggfunc=\"count\")"
   ]
  },
  {
   "cell_type": "markdown",
   "metadata": {},
   "source": [
    "We can see that all passengers in cabins A, B, C, and T are from Pclass 1, and all passengers in cabin G are from Pclass 2. However, passengers in cabins D, E and F are from different Pclasses. Therefore, it is not possible to assign the missing values of cabins based on the Pclass values. Thus, I consider drop the entire column."
   ]
  },
  {
   "cell_type": "code",
   "execution_count": 14,
   "metadata": {},
   "outputs": [],
   "source": [
    "train = train.drop(columns=[\"Cabin\", \"CabinLetters\"])"
   ]
  },
  {
   "cell_type": "markdown",
   "metadata": {},
   "source": [
    "The second column with missing values is the *Age* column. I could simply fill the missing values by the average of the *Age* column. **However, since there are different titles in the *Name* column (Mr. Mrs. etc.), I think I can do better by replacing the missing values with the average of the ages under certain title.** For example, if a passenger has a title Miss has her age missing, I can fill it up with the average age of all passengers with a title Miss. So, let's deal with the *Age* column later."
   ]
  },
  {
   "cell_type": "markdown",
   "metadata": {},
   "source": [
    "The third column with missing values is the *Embarked* column. Since there are only two missing values, I will simply fill the missing values by the most frequent value."
   ]
  },
  {
   "cell_type": "code",
   "execution_count": 15,
   "metadata": {},
   "outputs": [],
   "source": [
    "train[\"Embarked\"] = train[\"Embarked\"].fillna(train[\"Embarked\"].mode().iloc[0])"
   ]
  },
  {
   "cell_type": "markdown",
   "metadata": {},
   "source": [
    "### Feature Engineering"
   ]
  },
  {
   "cell_type": "markdown",
   "metadata": {},
   "source": [
    "As mentioned above, the titles under *Name* column may be a valuable feature. So I use some regular expression to extract the titles:"
   ]
  },
  {
   "cell_type": "code",
   "execution_count": 16,
   "metadata": {},
   "outputs": [
    {
     "data": {
      "text/plain": [
       "Mr              517\n",
       "Miss            182\n",
       "Mrs             125\n",
       "Master           40\n",
       "Dr                7\n",
       "Rev               6\n",
       "Mlle              2\n",
       "Major             2\n",
       "Col               2\n",
       "Jonkheer          1\n",
       "Lady              1\n",
       "Don               1\n",
       "Mme               1\n",
       "Capt              1\n",
       "Sir               1\n",
       "Ms                1\n",
       "the Countess      1\n",
       "Name: NameTitle, dtype: int64"
      ]
     },
     "execution_count": 16,
     "metadata": {},
     "output_type": "execute_result"
    }
   ],
   "source": [
    "train[\"NameTitle\"] = train[\"Name\"].str.extract(r\"\\w+\\,\\s(\\w*\\s?\\w*)\")\n",
    "train[\"NameTitle\"].value_counts()"
   ]
  },
  {
   "cell_type": "markdown",
   "metadata": {},
   "source": [
    "There are many titles that only few passengers have them. Since the data sizes for them are too small, it is better to merge them with more general titles:"
   ]
  },
  {
   "cell_type": "code",
   "execution_count": 17,
   "metadata": {},
   "outputs": [
    {
     "data": {
      "text/plain": [
       "Mr        537\n",
       "Miss      185\n",
       "Mrs       129\n",
       "Master     40\n",
       "Name: NameTitle, dtype: int64"
      ]
     },
     "execution_count": 17,
     "metadata": {},
     "output_type": "execute_result"
    }
   ],
   "source": [
    "# Reset the titles to more general ones\n",
    "def reset_title(row):\n",
    "    title = row[\"NameTitle\"]\n",
    "    if title in [\"Rev\", \"Major\", \"Col\", \"Jonkheer\", \"Don\", \"Sir\", \"Capt\"]:\n",
    "        return \"Mr\"\n",
    "    elif title == \"Dr\":\n",
    "        if row[\"Sex\"] == \"male\":\n",
    "            return \"Mr\"\n",
    "        else:\n",
    "            return \"Mrs\"\n",
    "    elif title in [\"Mlle\", \"Ms\"]:\n",
    "        return \"Miss\"\n",
    "    elif title in [\"Mme\", \"Lady\", \"the Countess\"]:\n",
    "        return \"Mrs\"\n",
    "    else:\n",
    "        return title\n",
    "train[\"NameTitle\"] = train.apply(reset_title, axis=1)\n",
    "train[\"NameTitle\"].value_counts()"
   ]
  },
  {
   "cell_type": "markdown",
   "metadata": {},
   "source": [
    "Now I can use these titles to calculate the average ages and fill up the missing values in the *Age* column."
   ]
  },
  {
   "cell_type": "code",
   "execution_count": 18,
   "metadata": {},
   "outputs": [],
   "source": [
    "# Fill the missing values in ages by the average age of the corresponding title of the person\n",
    "mean_ages = {}\n",
    "for title in train[\"NameTitle\"].unique():\n",
    "    mean_ages[title] = train.loc[train[\"NameTitle\"]==title, \"Age\"].mean()\n",
    "def fill_age(row):\n",
    "    age = row[\"Age\"]\n",
    "    title = row[\"NameTitle\"]\n",
    "    if np.isnan(age):\n",
    "        return mean_ages[title]\n",
    "    else:\n",
    "        return age\n",
    "train[\"Age\"] = train.apply(fill_age, axis=1)"
   ]
  },
  {
   "cell_type": "markdown",
   "metadata": {},
   "source": [
    "*SibSp* and *Parch* columns both represent the number of family members. Thus, I combine these two columns together as one:"
   ]
  },
  {
   "cell_type": "code",
   "execution_count": 19,
   "metadata": {},
   "outputs": [],
   "source": [
    "train[\"Family\"] = train[\"SibSp\"] + train[\"Parch\"]"
   ]
  },
  {
   "cell_type": "markdown",
   "metadata": {},
   "source": [
    "# Model Training And Fine-Tuning"
   ]
  },
  {
   "cell_type": "markdown",
   "metadata": {},
   "source": [
    "Here I used five different machine learning models, and after fine-tuing, their cross-validation scores are as follow:\n"
   ]
  },
  {
   "cell_type": "code",
   "execution_count": 20,
   "metadata": {},
   "outputs": [],
   "source": [
    "train_clean = train[[\"Survived\", \"Pclass\", \"Sex\", \"Age\", \"Fare\", \"Embarked\", \"Family\", \"NameTitle\"]]"
   ]
  },
  {
   "cell_type": "code",
   "execution_count": 21,
   "metadata": {},
   "outputs": [],
   "source": [
    "# Convert categorical columns to one-hot form\n",
    "sex = pd.get_dummies(train_clean[\"Sex\"], prefix=\"Sex\")\n",
    "embarked = pd.get_dummies(train_clean[\"Embarked\"], prefix=\"Embarked\")\n",
    "nametitle = pd.get_dummies(train_clean[\"NameTitle\"], prefix=\"Name\")\n",
    "pclass = pd.get_dummies(train_clean[\"Pclass\"], prefix=\"Pclass\")"
   ]
  },
  {
   "cell_type": "code",
   "execution_count": 22,
   "metadata": {},
   "outputs": [],
   "source": [
    "# Merge the one-hot form columns and drop the original ones\n",
    "train_clean = pd.concat([train_clean, sex, embarked, nametitle, pclass], axis=1)\n",
    "train_clean = train_clean.drop(columns=[\"Sex\", \"Embarked\", \"NameTitle\", \"Pclass\"])"
   ]
  },
  {
   "cell_type": "code",
   "execution_count": 23,
   "metadata": {},
   "outputs": [
    {
     "name": "stdout",
     "output_type": "stream",
     "text": [
      "<class 'pandas.core.frame.DataFrame'>\n",
      "RangeIndex: 891 entries, 0 to 890\n",
      "Data columns (total 16 columns):\n",
      "Survived       891 non-null int64\n",
      "Age            891 non-null float64\n",
      "Fare           891 non-null float64\n",
      "Family         891 non-null int64\n",
      "Sex_female     891 non-null uint8\n",
      "Sex_male       891 non-null uint8\n",
      "Embarked_C     891 non-null uint8\n",
      "Embarked_Q     891 non-null uint8\n",
      "Embarked_S     891 non-null uint8\n",
      "Name_Master    891 non-null uint8\n",
      "Name_Miss      891 non-null uint8\n",
      "Name_Mr        891 non-null uint8\n",
      "Name_Mrs       891 non-null uint8\n",
      "Pclass_1       891 non-null uint8\n",
      "Pclass_2       891 non-null uint8\n",
      "Pclass_3       891 non-null uint8\n",
      "dtypes: float64(2), int64(2), uint8(12)\n",
      "memory usage: 38.4 KB\n"
     ]
    }
   ],
   "source": [
    "train_clean.info()"
   ]
  },
  {
   "cell_type": "code",
   "execution_count": 24,
   "metadata": {},
   "outputs": [],
   "source": [
    "# Set the target and features\n",
    "X = train_clean.iloc[:, 1:]\n",
    "y = train_clean.iloc[:, 0]"
   ]
  },
  {
   "cell_type": "markdown",
   "metadata": {},
   "source": [
    "### Basic Model Setup"
   ]
  },
  {
   "cell_type": "code",
   "execution_count": 25,
   "metadata": {},
   "outputs": [],
   "source": [
    "from sklearn.preprocessing import StandardScaler\n",
    "from sklearn.linear_model import LogisticRegression\n",
    "from sklearn.svm import SVC\n",
    "from sklearn.model_selection import cross_val_score\n",
    "from sklearn.pipeline import make_pipeline\n",
    "from sklearn.neighbors import KNeighborsClassifier"
   ]
  },
  {
   "cell_type": "code",
   "execution_count": 26,
   "metadata": {},
   "outputs": [
    {
     "name": "stdout",
     "output_type": "stream",
     "text": [
      "[0.83240223 0.82681564 0.80337079 0.80898876 0.87570621]\n",
      "0.8294567284692071\n"
     ]
    }
   ],
   "source": [
    "# Logistic Regression\n",
    "pipe_lr = make_pipeline(StandardScaler(), LogisticRegression(solver='lbfgs'))\n",
    "cv = cross_val_score(pipe_lr, X, y, cv=5)\n",
    "print(cv)\n",
    "print(cv.mean())"
   ]
  },
  {
   "cell_type": "code",
   "execution_count": 27,
   "metadata": {},
   "outputs": [
    {
     "name": "stdout",
     "output_type": "stream",
     "text": [
      "[0.82681564 0.83240223 0.84831461 0.78089888 0.8700565 ]\n",
      "0.8316975714832362\n"
     ]
    }
   ],
   "source": [
    "# SVC\n",
    "pipe_svc = make_pipeline(StandardScaler(), SVC(kernel='rbf', gamma='auto', probability=True))\n",
    "cv = cross_val_score(pipe_svc, X, y, cv=5)\n",
    "print(cv)\n",
    "print(cv.mean())"
   ]
  },
  {
   "cell_type": "code",
   "execution_count": 28,
   "metadata": {},
   "outputs": [
    {
     "name": "stdout",
     "output_type": "stream",
     "text": [
      "[0.82681564 0.83240223 0.84831461 0.78089888 0.8700565 ]\n",
      "0.8316975714832362\n"
     ]
    }
   ],
   "source": [
    "# K-Neighbors\n",
    "pipe_knn = make_pipeline(StandardScaler(), KNeighborsClassifier(n_neighbors=10))\n",
    "cv = cross_val_score(pipe_svc, X, y, cv=5)\n",
    "print(cv)\n",
    "print(cv.mean())"
   ]
  },
  {
   "cell_type": "code",
   "execution_count": 29,
   "metadata": {},
   "outputs": [
    {
     "name": "stdout",
     "output_type": "stream",
     "text": [
      "[0.82681564 0.83798883 0.83707865 0.79213483 0.88700565]\n",
      "0.836204720427465\n"
     ]
    }
   ],
   "source": [
    "# Ensemble Learning\n",
    "from sklearn.ensemble import VotingClassifier\n",
    "voting_clf = VotingClassifier(estimators=[('lr', pipe_lr), ('svc', pipe_svc), ('knn', pipe_knn)], voting='soft')\n",
    "cv = cross_val_score(voting_clf, X, y, cv=5)\n",
    "print(cv)\n",
    "print(cv.mean())"
   ]
  },
  {
   "cell_type": "code",
   "execution_count": 30,
   "metadata": {
    "scrolled": true
   },
   "outputs": [
    {
     "name": "stdout",
     "output_type": "stream",
     "text": [
      "[0.78212291 0.79888268 0.83707865 0.76966292 0.83615819]\n",
      "0.8047810703432564\n"
     ]
    }
   ],
   "source": [
    "from sklearn.ensemble import RandomForestClassifier\n",
    "forest = RandomForestClassifier(criterion='gini', n_estimators=150, random_state=1)\n",
    "cv = cross_val_score(forest, X, y, cv=5)\n",
    "print(cv)\n",
    "print(cv.mean())"
   ]
  },
  {
   "cell_type": "markdown",
   "metadata": {},
   "source": [
    "### Fine-tuning Using GridSearch"
   ]
  },
  {
   "cell_type": "code",
   "execution_count": 31,
   "metadata": {},
   "outputs": [
    {
     "name": "stdout",
     "output_type": "stream",
     "text": [
      "0.8316498316498316\n",
      "{'logisticregression__C': 0.09540954763499963, 'logisticregression__solver': 'liblinear'}\n"
     ]
    }
   ],
   "source": [
    "# Logistic Regression\n",
    "from sklearn.model_selection import GridSearchCV\n",
    "param_grid = {'logisticregression__solver': ['liblinear', 'lbfgs'], 'logisticregression__C': np.logspace(-10,10,50)}\n",
    "gs = GridSearchCV(estimator=pipe_lr, param_grid=param_grid, scoring='accuracy', cv=5, refit=True, n_jobs=-1)\n",
    "gs.fit(X, y)\n",
    "print(gs.best_score_)\n",
    "print(gs.best_params_)\n",
    "pipe_lr_best = gs.best_estimator_"
   ]
  },
  {
   "cell_type": "code",
   "execution_count": 32,
   "metadata": {},
   "outputs": [
    {
     "name": "stdout",
     "output_type": "stream",
     "text": [
      "0.8338945005611672\n",
      "{'svc__C': 1.8329807108324339, 'svc__kernel': 'rbf'}\n"
     ]
    },
    {
     "name": "stderr",
     "output_type": "stream",
     "text": [
      "C:\\Users\\kuanw\\anaconda\\lib\\site-packages\\sklearn\\model_selection\\_search.py:814: DeprecationWarning: The default of the `iid` parameter will change from True to False in version 0.22 and will be removed in 0.24. This will change numeric results when test-set sizes are unequal.\n",
      "  DeprecationWarning)\n"
     ]
    }
   ],
   "source": [
    "# SVC\n",
    "param_grid = {'svc__kernel': ['sigmoid', 'rbf'], 'svc__C': np.logspace(-5,5,20)}\n",
    "gs = GridSearchCV(estimator=pipe_svc, param_grid=param_grid, scoring='accuracy', cv=5, refit=True, n_jobs=-1)\n",
    "gs.fit(X, y)\n",
    "print(gs.best_score_)\n",
    "print(gs.best_params_)\n",
    "pipe_svc_best = gs.best_estimator_"
   ]
  },
  {
   "cell_type": "code",
   "execution_count": 33,
   "metadata": {
    "scrolled": true
   },
   "outputs": [
    {
     "name": "stdout",
     "output_type": "stream",
     "text": [
      "0.8226711560044894\n",
      "{'kneighborsclassifier__algorithm': 'ball_tree', 'kneighborsclassifier__n_neighbors': 12, 'kneighborsclassifier__p': 2, 'kneighborsclassifier__weights': 'uniform'}\n"
     ]
    }
   ],
   "source": [
    "# K-Neighbors\n",
    "param_grid = {'kneighborsclassifier__n_neighbors': [6, 8, 10, 12], \n",
    "              'kneighborsclassifier__weights': ['uniform', 'distance'], \n",
    "              'kneighborsclassifier__algorithm': ['ball_tree', 'kd_tree', 'brute'], \n",
    "              'kneighborsclassifier__p': [1, 2]}\n",
    "gs = GridSearchCV(estimator=pipe_knn, param_grid=param_grid, scoring='accuracy', cv=5, refit=True, n_jobs=-1)\n",
    "gs.fit(X, y)\n",
    "print(gs.best_score_)\n",
    "print(gs.best_params_)\n",
    "pipe_knn_best = gs.best_estimator_"
   ]
  },
  {
   "cell_type": "code",
   "execution_count": 34,
   "metadata": {},
   "outputs": [
    {
     "name": "stdout",
     "output_type": "stream",
     "text": [
      "[0.82681564 0.83798883 0.83707865 0.79213483 0.88700565]\n",
      "0.836204720427465\n"
     ]
    }
   ],
   "source": [
    "# Use the best models for voting classifier\n",
    "voting_clf_best = VotingClassifier(estimators=[('lr', pipe_lr_best), ('svc', pipe_svc_best), ('knn', pipe_knn_best)], voting='hard')\n",
    "cv = cross_val_score(voting_clf, X, y, cv=5)\n",
    "print(cv)\n",
    "print(cv.mean())"
   ]
  },
  {
   "cell_type": "code",
   "execution_count": 35,
   "metadata": {},
   "outputs": [
    {
     "name": "stdout",
     "output_type": "stream",
     "text": [
      "0.8338945005611672\n",
      "{'n_estimators': 100, 'min_samples_split': 5, 'min_samples_leaf': 3, 'max_features': 'auto', 'max_depth': None, 'bootstrap': True}\n"
     ]
    }
   ],
   "source": [
    "# Random Forests Randomized Search\n",
    "from sklearn.model_selection import RandomizedSearchCV\n",
    "param_grid = {'n_estimators':[100, 200, 300, 400, 500], \n",
    "              'max_features': ['auto', 'log2', 'sqrt'],\n",
    "              'bootstrap': [True, False],\n",
    "             'max_depth': [10, 20, 30, 50, 100, None],\n",
    "             'min_samples_split':[2, 3, 4, 5],\n",
    "             'min_samples_leaf': [1, 2, 3, 4]}\n",
    "rs = RandomizedSearchCV(forest, param_grid, scoring='accuracy', cv=5, refit=True, n_jobs=-1)\n",
    "rs.fit(X, y)\n",
    "print(rs.best_score_)\n",
    "print(rs.best_params_)"
   ]
  },
  {
   "cell_type": "code",
   "execution_count": 36,
   "metadata": {},
   "outputs": [
    {
     "name": "stdout",
     "output_type": "stream",
     "text": [
      "0.8372615039281706\n",
      "{'min_samples_leaf': 6, 'min_samples_split': 5, 'n_estimators': 430}\n"
     ]
    }
   ],
   "source": [
    "# Random Forests Grid Search\n",
    "forest = RandomForestClassifier(max_features='auto', max_depth=None, bootstrap=True)\n",
    "param_grid = {'n_estimators':[400, 430, 460],\n",
    "             'min_samples_split':[3, 4, 5, 6],\n",
    "             'min_samples_leaf': [3, 4, 5, 6]}\n",
    "gs = GridSearchCV(estimator=forest, param_grid=param_grid, scoring='accuracy', cv=5, refit=True, n_jobs=-1)\n",
    "gs.fit(X, y)\n",
    "print(gs.best_score_)\n",
    "print(gs.best_params_)\n",
    "forest_best = gs.best_estimator_"
   ]
  },
  {
   "cell_type": "markdown",
   "metadata": {},
   "source": [
    "# Submit Results to Kaggle"
   ]
  },
  {
   "cell_type": "code",
   "execution_count": 37,
   "metadata": {},
   "outputs": [],
   "source": [
    "# import test dataset\n",
    "test = pd.read_csv('test.csv')"
   ]
  },
  {
   "cell_type": "markdown",
   "metadata": {},
   "source": [
    "### Preprocessing test dataset"
   ]
  },
  {
   "cell_type": "code",
   "execution_count": 38,
   "metadata": {
    "scrolled": true
   },
   "outputs": [
    {
     "name": "stdout",
     "output_type": "stream",
     "text": [
      "<class 'pandas.core.frame.DataFrame'>\n",
      "RangeIndex: 418 entries, 0 to 417\n",
      "Data columns (total 11 columns):\n",
      "PassengerId    418 non-null int64\n",
      "Pclass         418 non-null int64\n",
      "Name           418 non-null object\n",
      "Sex            418 non-null object\n",
      "Age            332 non-null float64\n",
      "SibSp          418 non-null int64\n",
      "Parch          418 non-null int64\n",
      "Ticket         418 non-null object\n",
      "Fare           417 non-null float64\n",
      "Cabin          91 non-null object\n",
      "Embarked       418 non-null object\n",
      "dtypes: float64(2), int64(4), object(5)\n",
      "memory usage: 36.0+ KB\n"
     ]
    }
   ],
   "source": [
    "# Preprocessing test dataset\n",
    "test.info()"
   ]
  },
  {
   "cell_type": "code",
   "execution_count": 39,
   "metadata": {},
   "outputs": [
    {
     "data": {
      "text/plain": [
       "Mr        245\n",
       "Miss       79\n",
       "Mrs        72\n",
       "Master     21\n",
       "Dona        1\n",
       "Name: NameTitle, dtype: int64"
      ]
     },
     "execution_count": 39,
     "metadata": {},
     "output_type": "execute_result"
    }
   ],
   "source": [
    "# Name Title\n",
    "test[\"NameTitle\"] = test[\"Name\"].str.extract(r\"\\w+\\,\\s(\\w*\\s?\\w*)\")\n",
    "test[\"NameTitle\"] = test.apply(reset_title, axis=1)\n",
    "test[\"NameTitle\"].value_counts()"
   ]
  },
  {
   "cell_type": "code",
   "execution_count": 40,
   "metadata": {},
   "outputs": [],
   "source": [
    "test[\"NameTitle\"] = test[\"NameTitle\"].str.replace(\"Dona\", \"Mrs\")"
   ]
  },
  {
   "cell_type": "code",
   "execution_count": 41,
   "metadata": {},
   "outputs": [],
   "source": [
    "# Ages\n",
    "mean_ages = {}\n",
    "for title in test[\"NameTitle\"].unique():\n",
    "    mean_ages[title] = test.loc[test[\"NameTitle\"]==title, \"Age\"].mean()\n",
    "test[\"Age\"] = test.apply(fill_age, axis=1)\n",
    "\n",
    "# Family \n",
    "test[\"Family\"] = test[\"SibSp\"] + test[\"Parch\"]\n",
    "\n",
    "# Replace the missing value in Fare by the average\n",
    "test[\"Fare\"] = test[\"Fare\"].fillna(test[\"Fare\"].mean())"
   ]
  },
  {
   "cell_type": "code",
   "execution_count": 42,
   "metadata": {},
   "outputs": [],
   "source": [
    "test_clean = test[[\"Pclass\", \"Sex\", \"Age\", \"Fare\", \"Embarked\", \"Family\", \"NameTitle\"]]\n",
    "# Convert categorical columns to one-hot form\n",
    "sex = pd.get_dummies(test_clean[\"Sex\"], prefix=\"Sex\")\n",
    "embarked = pd.get_dummies(test_clean[\"Embarked\"], prefix=\"Embarked\")\n",
    "nametitle = pd.get_dummies(test_clean[\"NameTitle\"], prefix=\"Name\")\n",
    "pclass = pd.get_dummies(test_clean[\"Pclass\"], prefix=\"Pclass\")\n",
    "# Merge the one-hot form columns and drop the original ones\n",
    "test_clean = pd.concat([test_clean, sex, embarked, nametitle, pclass], axis=1)\n",
    "test_clean = test_clean.drop(columns=[\"Sex\", \"Embarked\", \"NameTitle\", \"Pclass\"])"
   ]
  },
  {
   "cell_type": "markdown",
   "metadata": {},
   "source": [
    "### Submission"
   ]
  },
  {
   "cell_type": "code",
   "execution_count": 43,
   "metadata": {},
   "outputs": [],
   "source": [
    "fit = voting_clf_best.fit(X, y)\n",
    "y_pred = voting_clf_best.predict(test_clean)"
   ]
  },
  {
   "cell_type": "code",
   "execution_count": 44,
   "metadata": {},
   "outputs": [
    {
     "data": {
      "text/plain": [
       "<matplotlib.axes._subplots.AxesSubplot at 0x1fab5854e88>"
      ]
     },
     "execution_count": 44,
     "metadata": {},
     "output_type": "execute_result"
    },
    {
     "data": {
      "image/png": "[encoded data removed]",
      "text/plain": [
       "<Figure size 432x288 with 1 Axes>"
      ]
     },
     "metadata": {
      "needs_background": "light"
     },
     "output_type": "display_data"
    }
   ],
   "source": [
    "forest_best.fit(X,y)\n",
    "feature_importances = pd.Series(forest_best.feature_importances_, index=X.columns)\n",
    "feature_importances.plot(kind=\"barh\")"
   ]
  },
  {
   "cell_type": "code",
   "execution_count": 45,
   "metadata": {},
   "outputs": [],
   "source": [
    "submission = pd.concat([test[\"PassengerId\"], pd.DataFrame(y_pred, columns=[\"Survived\"])], axis=1)\n",
    "submission.to_csv(\"submission_voting_v2.csv\", index=False)"
   ]
  },
  {
   "cell_type": "markdown",
   "metadata": {},
   "source": [
    "### Best Model"
   ]
  },
  {
   "cell_type": "markdown",
   "metadata": {},
   "source": [
    "Turns out the model that gives me the highest accuracy score is *pipe_knn_best* (78.7%). This is suprising to me as I thought the ensemble classifiers such as *voting_clf_best* or *forest_best* would give me the best result. The image below shows my submissions:"
   ]
  },
  {
   "cell_type": "markdown",
   "metadata": {},
   "source": [
    "![image](capture.PNG)"
   ]
  }
 ],
 "metadata": {
  "kernelspec": {
   "display_name": "Python 3",
   "language": "python",
   "name": "python3"
  },
  "language_info": {
   "codemirror_mode": {
    "name": "ipython",
    "version": 3
   },
   "file_extension": ".py",
   "mimetype": "text/x-python",
   "name": "python",
   "nbconvert_exporter": "python",
   "pygments_lexer": "ipython3",
   "version": "3.7.4"
  }
 },
 "nbformat": 4,
 "nbformat_minor": 2
}
